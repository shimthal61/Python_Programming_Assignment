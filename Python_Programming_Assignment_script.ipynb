{
 "cells": [
  {
   "cell_type": "markdown",
   "id": "b07ebdb3",
   "metadata": {},
   "source": [
    "# Importing Packages"
   ]
  },
  {
   "cell_type": "code",
   "execution_count": null,
   "id": "18e37022",
   "metadata": {},
   "outputs": [],
   "source": [
    "import pandas as pd\n",
    "import matplotlib.pyplot as plt"
   ]
  },
  {
   "cell_type": "markdown",
   "id": "f92c26fa",
   "metadata": {},
   "source": [
    "# Creating read_csv Function"
   ]
  },
  {
   "cell_type": "code",
   "execution_count": null,
   "id": "e535f995",
   "metadata": {},
   "outputs": [],
   "source": [
    "def read_my_data(csv_file):\n",
    "    my_data = pd.read_csv(csv_file)\n",
    "    return my_data"
   ]
  },
  {
   "cell_type": "code",
   "execution_count": null,
   "id": "26e19265",
   "metadata": {},
   "outputs": [],
   "source": [
    "my_data = read_my_data(\"python_assignment_1.csv\")"
   ]
  },
  {
   "cell_type": "markdown",
   "id": "f7663920",
   "metadata": {},
   "source": [
    "# Tidying Data"
   ]
  },
  {
   "cell_type": "code",
   "execution_count": null,
   "id": "90f5b02d",
   "metadata": {},
   "outputs": [],
   "source": [
    "my_data.columns = my_data.columns.str.title()\n",
    "my_data = my_data.replace(['positiveprime', 'negativeprime', 'positivetarget', 'negativetarget'], \n",
    "                ['Positive', 'Negative', 'Positive', 'Negative'])"
   ]
  },
  {
   "cell_type": "code",
   "execution_count": null,
   "id": "504fffff",
   "metadata": {},
   "outputs": [],
   "source": [
    "my_data.head()"
   ]
  },
  {
   "cell_type": "code",
   "execution_count": null,
   "id": "d74b4042",
   "metadata": {},
   "outputs": [],
   "source": [
    "def run_my_anova(IV1, IV2, DV, data):\n",
    "    mapping = {data.columns[0]: 'Participant', data.columns[1]: IV1, data.columns[2]: IV2, data.columns[3]: DV}\n",
    "    data_frame = data.rename(columns=mapping)\n",
    "    descriptives = data_frame[[IV1, IV2, DV]].groupby([IV1,IV2]).describe()\n",
    "    return descriptives"
   ]
  },
  {
   "cell_type": "code",
   "execution_count": null,
   "id": "4f73f9b2",
   "metadata": {},
   "outputs": [],
   "source": [
    "run_my_anova('Prime', 'Target', 'RT', my_data)"
   ]
  },
  {
   "cell_type": "markdown",
   "id": "26a8ae61",
   "metadata": {},
   "source": [
    "# Going beyond"
   ]
  },
  {
   "cell_type": "markdown",
   "id": "127d774e",
   "metadata": {},
   "source": [
    "## Defining Columns"
   ]
  },
  {
   "cell_type": "code",
   "execution_count": null,
   "id": "3071e14c",
   "metadata": {},
   "outputs": [],
   "source": [
    "IV1 = input('Enter your first independent variable: ')\n",
    "IV2 = input('Enter your second independent variable: ')\n",
    "DV = input('Enter your dependent variable: ')\n",
    "mapping = {my_data.columns[1]: IV1, my_data.columns[2]: IV2, my_data.columns[3]: DV}\n",
    "data = my_data.rename(columns=mapping)\n",
    "data.columns = data.columns.str.title()\n",
    "data"
   ]
  },
  {
   "cell_type": "markdown",
   "id": "e633489b",
   "metadata": {},
   "source": [
    "## Tidying data"
   ]
  },
  {
   "cell_type": "markdown",
   "id": "9f6a6006",
   "metadata": {},
   "source": [
    "## Descriptive stats"
   ]
  },
  {
   "cell_type": "code",
   "execution_count": null,
   "id": "bc96b445",
   "metadata": {},
   "outputs": [],
   "source": [
    "carry_out_summary = input('Would you like to generate some summary statistics? y/n: ')\n",
    "if carry_out_summary == 'y':\n",
    "    data_frame[[IV1, IV2, DV]].groupby([IV1,IV2]).describe()"
   ]
  },
  {
   "cell_type": "markdown",
   "id": "d083b86c",
   "metadata": {},
   "source": [
    "## Adding options"
   ]
  },
  {
   "cell_type": "markdown",
   "id": "c4a6a8c6",
   "metadata": {},
   "source": [
    "## Defining functions"
   ]
  },
  {
   "cell_type": "code",
   "execution_count": null,
   "id": "a9b31358",
   "metadata": {},
   "outputs": [
    {
     "name": "stdout",
     "output_type": "stream",
     "text": [
      "\n",
      "What would you like to do with your data:\n",
      "Enter 1 to load in the data file\n",
      "Enter 2 to view data frame\n",
      "Enter 3 to tidy data\n",
      "Enter 4 to generate summary statistics\n",
      "Enter 5 to visualise the data\n",
      "Enter 6 to perform and report an ANOVA\n",
      "Enter 7 to perform and report pairwise comparisons\n",
      "\n",
      "1\n",
      "\n",
      "Enter your csv file name or enter 'b' to go back: \n",
      "\n",
      "        python_assignment_1.csv\n",
      "csv file loaded in.\n",
      "\n",
      "What would you like to do with your data:\n",
      "Enter 1 to load in the data file\n",
      "Enter 2 to view data frame\n",
      "Enter 3 to tidy data\n",
      "Enter 4 to generate summary statistics\n",
      "Enter 5 to visualise the data\n",
      "Enter 6 to perform and report an ANOVA\n",
      "Enter 7 to perform and report pairwise comparisons\n",
      "\n",
      "4\n",
      "\u001b[1mDisplaying summary statistics\n"
     ]
    },
    {
     "data": {
      "text/html": [
       "<div>\n",
       "<style scoped>\n",
       "    .dataframe tbody tr th:only-of-type {\n",
       "        vertical-align: middle;\n",
       "    }\n",
       "\n",
       "    .dataframe tbody tr th {\n",
       "        vertical-align: top;\n",
       "    }\n",
       "\n",
       "    .dataframe thead tr th {\n",
       "        text-align: left;\n",
       "    }\n",
       "\n",
       "    .dataframe thead tr:last-of-type th {\n",
       "        text-align: right;\n",
       "    }\n",
       "</style>\n",
       "<table border=\"1\" class=\"dataframe\">\n",
       "  <thead>\n",
       "    <tr>\n",
       "      <th></th>\n",
       "      <th></th>\n",
       "      <th colspan=\"8\" halign=\"left\">rt</th>\n",
       "    </tr>\n",
       "    <tr>\n",
       "      <th></th>\n",
       "      <th></th>\n",
       "      <th>count</th>\n",
       "      <th>mean</th>\n",
       "      <th>std</th>\n",
       "      <th>min</th>\n",
       "      <th>25%</th>\n",
       "      <th>50%</th>\n",
       "      <th>75%</th>\n",
       "      <th>max</th>\n",
       "    </tr>\n",
       "    <tr>\n",
       "      <th>prime</th>\n",
       "      <th>target</th>\n",
       "      <th></th>\n",
       "      <th></th>\n",
       "      <th></th>\n",
       "      <th></th>\n",
       "      <th></th>\n",
       "      <th></th>\n",
       "      <th></th>\n",
       "      <th></th>\n",
       "    </tr>\n",
       "  </thead>\n",
       "  <tbody>\n",
       "    <tr>\n",
       "      <th rowspan=\"2\" valign=\"top\">negativeprime</th>\n",
       "      <th>negativetarget</th>\n",
       "      <td>148.0</td>\n",
       "      <td>1547.256757</td>\n",
       "      <td>52.382700</td>\n",
       "      <td>1417.0</td>\n",
       "      <td>1507.50</td>\n",
       "      <td>1550.5</td>\n",
       "      <td>1580.50</td>\n",
       "      <td>1710.0</td>\n",
       "    </tr>\n",
       "    <tr>\n",
       "      <th>positivetarget</th>\n",
       "      <td>148.0</td>\n",
       "      <td>1562.648649</td>\n",
       "      <td>50.468400</td>\n",
       "      <td>1440.0</td>\n",
       "      <td>1533.25</td>\n",
       "      <td>1562.0</td>\n",
       "      <td>1587.00</td>\n",
       "      <td>1736.0</td>\n",
       "    </tr>\n",
       "    <tr>\n",
       "      <th rowspan=\"2\" valign=\"top\">positiveprime</th>\n",
       "      <th>negativetarget</th>\n",
       "      <td>148.0</td>\n",
       "      <td>1566.959459</td>\n",
       "      <td>54.016737</td>\n",
       "      <td>1448.0</td>\n",
       "      <td>1528.50</td>\n",
       "      <td>1570.5</td>\n",
       "      <td>1602.25</td>\n",
       "      <td>1694.0</td>\n",
       "    </tr>\n",
       "    <tr>\n",
       "      <th>positivetarget</th>\n",
       "      <td>148.0</td>\n",
       "      <td>1547.391892</td>\n",
       "      <td>44.879072</td>\n",
       "      <td>1430.0</td>\n",
       "      <td>1513.00</td>\n",
       "      <td>1550.5</td>\n",
       "      <td>1584.25</td>\n",
       "      <td>1637.0</td>\n",
       "    </tr>\n",
       "  </tbody>\n",
       "</table>\n",
       "</div>"
      ],
      "text/plain": [
       "                                 rt                                           \\\n",
       "                              count         mean        std     min      25%   \n",
       "prime         target                                                           \n",
       "negativeprime negativetarget  148.0  1547.256757  52.382700  1417.0  1507.50   \n",
       "              positivetarget  148.0  1562.648649  50.468400  1440.0  1533.25   \n",
       "positiveprime negativetarget  148.0  1566.959459  54.016737  1448.0  1528.50   \n",
       "              positivetarget  148.0  1547.391892  44.879072  1430.0  1513.00   \n",
       "\n",
       "                                                       \n",
       "                                 50%      75%     max  \n",
       "prime         target                                   \n",
       "negativeprime negativetarget  1550.5  1580.50  1710.0  \n",
       "              positivetarget  1562.0  1587.00  1736.0  \n",
       "positiveprime negativetarget  1570.5  1602.25  1694.0  \n",
       "              positivetarget  1550.5  1584.25  1637.0  "
      ]
     },
     "metadata": {},
     "output_type": "display_data"
    }
   ],
   "source": [
    "import pandas as pd\n",
    "import matplotlib.pyplot as plt\n",
    "def anova_function():\n",
    "    global data\n",
    "    options = input('''\n",
    "What would you like to do with your data:\n",
    "Enter 1 to load in the data file\n",
    "Enter 2 to view data frame\n",
    "Enter 3 to tidy data\n",
    "Enter 4 to generate summary statistics\n",
    "Enter 5 to visualise the data\n",
    "Enter 6 to perform and report an ANOVA\n",
    "Enter 7 to perform and report pairwise comparisons\n",
    "\n",
    "''')\n",
    "    if options == '1':\n",
    "        substring = 'csv'\n",
    "        def load_data_function():\n",
    "            global data\n",
    "            global IV1\n",
    "            global IV2\n",
    "            global DV\n",
    "            file = input('''\n",
    "Enter your csv file name or enter 'b' to go back: \n",
    "\n",
    "        ''')\n",
    "            if substring in file:\n",
    "                print('csv file loaded in.')\n",
    "                data = pd.read_csv(file)\n",
    "                IV1 = data.columns[1]\n",
    "                IV2 = data.columns[2]\n",
    "                DV = data.columns[3]\n",
    "            elif file == 'b':\n",
    "                anova_function()\n",
    "            else:\n",
    "                print('Invalid option. Try again.')\n",
    "                load_data_function_again()\n",
    "        def load_data_function_again():\n",
    "            load_data_function()\n",
    "        load_data_function()        \n",
    "    elif options == '2':\n",
    "        print('\\033[1m' + 'Displaying Data Frame')\n",
    "        display(data)\n",
    "    elif options == '3':\n",
    "        def tidy_data_function():\n",
    "            global data\n",
    "            global IV1\n",
    "            global IV2\n",
    "            global DV\n",
    "            columns_levels = input('''\n",
    "What would you like to tidy?\n",
    "Enter 1 to rename the columns\n",
    "Enter 2 to rename the levels\n",
    "Enter 3 to go back\n",
    "\n",
    "        ''')\n",
    "            if columns_levels == '1':\n",
    "                IV1 = input('''\n",
    "Enter your first independent variable: \n",
    "\n",
    "            ''')\n",
    "                IV2 = input('''\n",
    "Enter your second independent variable: \n",
    "\n",
    "            ''')\n",
    "                DV = input('''\n",
    "Enter your dependent variable: \n",
    "            \n",
    "            ''')\n",
    "                mapping = {data.columns[0]: 'Participant', data.columns[1]: IV1, data.columns[2]: IV2, data.columns[3]: DV}\n",
    "                data = data.rename(columns=mapping)\n",
    "            elif columns_levels == '2':\n",
    "                def levels_rename():\n",
    "                    global data\n",
    "                    level_origin = input('''\n",
    "What would you like to rename: \n",
    "\n",
    "                ''')\n",
    "                    level_change = input('''\n",
    "What would you like to rename it to: \n",
    "\n",
    "                ''')\n",
    "                    data = data.replace([level_origin],[level_change])\n",
    "\n",
    "                    levels_rename_again()\n",
    "\n",
    "                def levels_rename_again():\n",
    "                    global data\n",
    "                    change_levels = input('''\n",
    "Would you like to rename another level? y/n: \n",
    "\n",
    "            ''')\n",
    "                    if change_levels == 'y':\n",
    "                        levels_rename()\n",
    "                    elif change_levels == 'n':\n",
    "                        anova_function()\n",
    "                    else:\n",
    "                        levels_rename_again()        \n",
    "                levels_rename()\n",
    "            elif columns_levels == '3':\n",
    "                anova_function()\n",
    "            else:\n",
    "                print('Invalid choice. Try again')\n",
    "                tidy_data_function_again()\n",
    "        def tidy_data_function_again():\n",
    "            tidy_data_function()\n",
    "        tidy_data_function()\n",
    "    elif options == '4':\n",
    "        print ('\\033[1m' + 'Displaying summary statistics')\n",
    "        display(data[[IV1, IV2, DV]].groupby([IV1,IV2]).describe())\n",
    "    elif options == '5':\n",
    "        \n",
    "\n",
    "    anova_function_again()\n",
    "\n",
    "def anova_function_again():\n",
    "    anova_function()\n",
    "    \n",
    "anova_function()"
   ]
  },
  {
   "cell_type": "code",
   "execution_count": null,
   "id": "44dd07bc",
   "metadata": {},
   "outputs": [],
   "source": [
    "def run_my_anova(IV1, IV2, DV, data):\n",
    "    mapping = {data.columns[0]: 'Participant', data.columns[1]: IV1, data.columns[2]: IV2, data.columns[3]: DV}\n",
    "    data_frame = data.rename(columns=mapping)\n",
    "    descriptives = data_frame[[IV1, IV2, DV]].groupby([IV1,IV2]).describe()\n",
    "    return descriptives"
   ]
  },
  {
   "cell_type": "code",
   "execution_count": null,
   "id": "e44b27e5",
   "metadata": {},
   "outputs": [],
   "source": [
    "IV1 = data.columns[1]\n",
    "IV2 = data.columns[2]\n",
    "DV = data.columns[3]"
   ]
  },
  {
   "cell_type": "code",
   "execution_count": null,
   "id": "b7aa8141",
   "metadata": {},
   "outputs": [],
   "source": [
    "data[[IV1, IV2, DV]].groupby([IV1,IV2]).describe()"
   ]
  }
 ],
 "metadata": {
  "kernelspec": {
   "display_name": "Python (data_science)",
   "language": "python",
   "name": "data_science"
  },
  "language_info": {
   "codemirror_mode": {
    "name": "ipython",
    "version": 3
   },
   "file_extension": ".py",
   "mimetype": "text/x-python",
   "name": "python",
   "nbconvert_exporter": "python",
   "pygments_lexer": "ipython3",
   "version": "3.9.7"
  }
 },
 "nbformat": 4,
 "nbformat_minor": 5
}
