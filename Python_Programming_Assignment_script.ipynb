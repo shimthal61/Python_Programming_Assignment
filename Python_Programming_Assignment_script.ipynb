{
 "cells": [
  {
   "cell_type": "markdown",
   "id": "b07ebdb3",
   "metadata": {},
   "source": [
    "# Importing Packages"
   ]
  },
  {
   "cell_type": "code",
   "execution_count": 1,
   "id": "18e37022",
   "metadata": {},
   "outputs": [],
   "source": [
    "import pandas as pd\n",
    "import matplotlib.pyplot as plt"
   ]
  },
  {
   "cell_type": "markdown",
   "id": "f92c26fa",
   "metadata": {},
   "source": [
    "# Creating read_csv Function"
   ]
  },
  {
   "cell_type": "code",
   "execution_count": 2,
   "id": "e535f995",
   "metadata": {},
   "outputs": [],
   "source": [
    "def read_my_data(csv_file):\n",
    "    my_data = pd.read_csv(csv_file)\n",
    "    return my_data"
   ]
  },
  {
   "cell_type": "code",
   "execution_count": 3,
   "id": "26e19265",
   "metadata": {},
   "outputs": [],
   "source": [
    "my_data = read_my_data(\"python_assignment_1.csv\")"
   ]
  },
  {
   "cell_type": "markdown",
   "id": "f7663920",
   "metadata": {},
   "source": [
    "# Tidying Data"
   ]
  },
  {
   "cell_type": "code",
   "execution_count": null,
   "id": "90f5b02d",
   "metadata": {},
   "outputs": [],
   "source": [
    "my_data.columns = my_data.columns.str.title()\n",
    "my_data = my_data.replace(['positiveprime', 'negativeprime', 'positivetarget', 'negativetarget'], \n",
    "                ['Positive', 'Negative', 'Positive', 'Negative'])"
   ]
  },
  {
   "cell_type": "code",
   "execution_count": null,
   "id": "504fffff",
   "metadata": {},
   "outputs": [],
   "source": [
    "my_data.head()"
   ]
  },
  {
   "cell_type": "code",
   "execution_count": null,
   "id": "d74b4042",
   "metadata": {},
   "outputs": [],
   "source": [
    "def run_my_anova(Participant, IV1, IV2, DV, data):\n",
    "    mapping = {data.columns[0]: Participant, data.columns[1]: IV1, data.columns[2]: IV2, data.columns[3]: DV}\n",
    "    data_frame = data.rename(columns=mapping)\n",
    "    descriptives = data_frame[[IV1, IV2, DV]].groupby([IV1,IV2]).describe()\n",
    "    return descriptives"
   ]
  },
  {
   "cell_type": "code",
   "execution_count": null,
   "id": "4f73f9b2",
   "metadata": {},
   "outputs": [],
   "source": [
    "run_my_anova('Participant', 'Prime', 'Target', 'RT', my_data)"
   ]
  },
  {
   "cell_type": "code",
   "execution_count": null,
   "id": "423dfdbd",
   "metadata": {},
   "outputs": [],
   "source": [
    "my_data.head()"
   ]
  },
  {
   "cell_type": "markdown",
   "id": "de7dda6b",
   "metadata": {},
   "source": [
    "# Creating Visualisation"
   ]
  },
  {
   "cell_type": "markdown",
   "id": "26a8ae61",
   "metadata": {},
   "source": [
    "# Going beyond"
   ]
  },
  {
   "cell_type": "code",
   "execution_count": null,
   "id": "3071e14c",
   "metadata": {},
   "outputs": [],
   "source": [
    "IV1 = input('Enter your first independent variable: ')\n",
    "IV2 = input('Enter your second independent variable: ')\n",
    "DV = input('Enter your dependent variable: ')\n",
    "mapping = {my_data.columns[1]: IV1, my_data.columns[2]: IV2, my_data.columns[3]: DV}\n",
    "data = my_data.rename(columns=mapping)\n",
    "data.columns = data.columns.str.title()\n",
    "data"
   ]
  },
  {
   "cell_type": "code",
   "execution_count": null,
   "id": "08540767",
   "metadata": {},
   "outputs": [],
   "source": [
    "tidy_data = input('Would you like to tidy your data? y/n: ')\n",
    "if tidy_data == 'y':\n",
    "    level_1_origin = input('What would you like to rename: ')\n",
    "    level_1_change = input('What would you like to rename it to: ')\n",
    "    data = data.replace([level_1_origin],[level_1_change])\n",
    "    carry_on = input('Would you like to rename a second variable? y/n: ')\n",
    "    if carry_on == 'y':\n",
    "        level_2_origin = input('What would you like to rename: ')\n",
    "        level_2_change = input('What would you like to rename it to: ')\n",
    "        data = data.replace([level_2_origin],[level_2_change])\n",
    "        carry_on = input('Would you like to rename a third variable? y/n: ')\n",
    "    if carry_on == 'y':\n",
    "        level_3_origin = input('What would you like to rename: ')\n",
    "        level_3_change = input('What would you like to rename it to: ')\n",
    "        data = data.replace([level_3_origin],[level_3_change])\n",
    "        carry_on = input('Would you like to rename a final variable? y/n: ')\n",
    "    if carry_on == 'y':\n",
    "        level_4_origin = input('What would you like to rename: ')\n",
    "        level_4_change = input('What would you like to rename it to: ')\n",
    "        data = data.replace([level_4_origin],[level_4_change])\n",
    "        carry_out_summary = input('Would you like to generate some summary statistics? y/n: ')\n",
    "    elif carry_on == 'n':\n",
    "        carry_out_summary = input('Would you like to generate some summary statistics? y/n: ')\n",
    "elif tidy_data == 'n':\n",
    "    carry_out_summary = input('Would you like to generate some summary statistics? y/n: ')"
   ]
  },
  {
   "cell_type": "code",
   "execution_count": 7,
   "id": "44e11b84",
   "metadata": {},
   "outputs": [
    {
     "name": "stdout",
     "output_type": "stream",
     "text": [
      "Enter your first independent variable: Prime\n",
      "Enter your second independent variable: Target\n",
      "Enter your dependent variable: rt\n"
     ]
    },
    {
     "ename": "KeyboardInterrupt",
     "evalue": "Interrupted by user",
     "output_type": "error",
     "traceback": [
      "\u001b[1;31m---------------------------------------------------------------------------\u001b[0m",
      "\u001b[1;31mKeyboardInterrupt\u001b[0m                         Traceback (most recent call last)",
      "\u001b[1;32m~\\AppData\\Local\\Temp/ipykernel_6980/400541333.py\u001b[0m in \u001b[0;36m<module>\u001b[1;34m\u001b[0m\n\u001b[0;32m      6\u001b[0m \u001b[0mdata\u001b[0m\u001b[1;33m.\u001b[0m\u001b[0mcolumns\u001b[0m \u001b[1;33m=\u001b[0m \u001b[0mdata\u001b[0m\u001b[1;33m.\u001b[0m\u001b[0mcolumns\u001b[0m\u001b[1;33m.\u001b[0m\u001b[0mstr\u001b[0m\u001b[1;33m.\u001b[0m\u001b[0mtitle\u001b[0m\u001b[1;33m(\u001b[0m\u001b[1;33m)\u001b[0m\u001b[1;33m\u001b[0m\u001b[1;33m\u001b[0m\u001b[0m\n\u001b[0;32m      7\u001b[0m \u001b[0mdata\u001b[0m\u001b[1;33m.\u001b[0m\u001b[0mhead\u001b[0m\u001b[1;33m(\u001b[0m\u001b[1;33m)\u001b[0m\u001b[1;33m\u001b[0m\u001b[1;33m\u001b[0m\u001b[0m\n\u001b[1;32m----> 8\u001b[1;33m \u001b[0mtidy_data\u001b[0m \u001b[1;33m=\u001b[0m \u001b[0minput\u001b[0m\u001b[1;33m(\u001b[0m\u001b[1;34m'Would you like to tidy your data? y/n: '\u001b[0m\u001b[1;33m)\u001b[0m\u001b[1;33m\u001b[0m\u001b[1;33m\u001b[0m\u001b[0m\n\u001b[0m\u001b[0;32m      9\u001b[0m \u001b[1;32mif\u001b[0m \u001b[0mtidy_data\u001b[0m \u001b[1;33m==\u001b[0m \u001b[1;34m'y'\u001b[0m\u001b[1;33m:\u001b[0m\u001b[1;33m\u001b[0m\u001b[1;33m\u001b[0m\u001b[0m\n\u001b[0;32m     10\u001b[0m     \u001b[0mlevel_1_origin\u001b[0m \u001b[1;33m=\u001b[0m \u001b[0minput\u001b[0m\u001b[1;33m(\u001b[0m\u001b[1;34m'What would you like to rename: '\u001b[0m\u001b[1;33m)\u001b[0m\u001b[1;33m\u001b[0m\u001b[1;33m\u001b[0m\u001b[0m\n",
      "\u001b[1;32m~\\anaconda3\\envs\\data_science\\lib\\site-packages\\ipykernel\\kernelbase.py\u001b[0m in \u001b[0;36mraw_input\u001b[1;34m(self, prompt)\u001b[0m\n\u001b[0;32m   1004\u001b[0m                 \u001b[1;34m\"raw_input was called, but this frontend does not support input requests.\"\u001b[0m\u001b[1;33m\u001b[0m\u001b[1;33m\u001b[0m\u001b[0m\n\u001b[0;32m   1005\u001b[0m             )\n\u001b[1;32m-> 1006\u001b[1;33m         return self._input_request(\n\u001b[0m\u001b[0;32m   1007\u001b[0m             \u001b[0mstr\u001b[0m\u001b[1;33m(\u001b[0m\u001b[0mprompt\u001b[0m\u001b[1;33m)\u001b[0m\u001b[1;33m,\u001b[0m\u001b[1;33m\u001b[0m\u001b[1;33m\u001b[0m\u001b[0m\n\u001b[0;32m   1008\u001b[0m             \u001b[0mself\u001b[0m\u001b[1;33m.\u001b[0m\u001b[0m_parent_ident\u001b[0m\u001b[1;33m[\u001b[0m\u001b[1;34m\"shell\"\u001b[0m\u001b[1;33m]\u001b[0m\u001b[1;33m,\u001b[0m\u001b[1;33m\u001b[0m\u001b[1;33m\u001b[0m\u001b[0m\n",
      "\u001b[1;32m~\\anaconda3\\envs\\data_science\\lib\\site-packages\\ipykernel\\kernelbase.py\u001b[0m in \u001b[0;36m_input_request\u001b[1;34m(self, prompt, ident, parent, password)\u001b[0m\n\u001b[0;32m   1049\u001b[0m             \u001b[1;32mexcept\u001b[0m \u001b[0mKeyboardInterrupt\u001b[0m\u001b[1;33m:\u001b[0m\u001b[1;33m\u001b[0m\u001b[1;33m\u001b[0m\u001b[0m\n\u001b[0;32m   1050\u001b[0m                 \u001b[1;31m# re-raise KeyboardInterrupt, to truncate traceback\u001b[0m\u001b[1;33m\u001b[0m\u001b[1;33m\u001b[0m\u001b[0m\n\u001b[1;32m-> 1051\u001b[1;33m                 \u001b[1;32mraise\u001b[0m \u001b[0mKeyboardInterrupt\u001b[0m\u001b[1;33m(\u001b[0m\u001b[1;34m\"Interrupted by user\"\u001b[0m\u001b[1;33m)\u001b[0m \u001b[1;32mfrom\u001b[0m \u001b[1;32mNone\u001b[0m\u001b[1;33m\u001b[0m\u001b[1;33m\u001b[0m\u001b[0m\n\u001b[0m\u001b[0;32m   1052\u001b[0m             \u001b[1;32mexcept\u001b[0m \u001b[0mException\u001b[0m\u001b[1;33m:\u001b[0m\u001b[1;33m\u001b[0m\u001b[1;33m\u001b[0m\u001b[0m\n\u001b[0;32m   1053\u001b[0m                 \u001b[0mself\u001b[0m\u001b[1;33m.\u001b[0m\u001b[0mlog\u001b[0m\u001b[1;33m.\u001b[0m\u001b[0mwarning\u001b[0m\u001b[1;33m(\u001b[0m\u001b[1;34m\"Invalid Message:\"\u001b[0m\u001b[1;33m,\u001b[0m \u001b[0mexc_info\u001b[0m\u001b[1;33m=\u001b[0m\u001b[1;32mTrue\u001b[0m\u001b[1;33m)\u001b[0m\u001b[1;33m\u001b[0m\u001b[1;33m\u001b[0m\u001b[0m\n",
      "\u001b[1;31mKeyboardInterrupt\u001b[0m: Interrupted by user"
     ]
    }
   ],
   "source": [
    "IV1 = input('Enter your first independent variable: ')\n",
    "IV2 = input('Enter your second independent variable: ')\n",
    "DV = input('Enter your dependent variable: ')\n",
    "mapping = {my_data.columns[1]: IV1, my_data.columns[2]: IV2, my_data.columns[3]: DV}\n",
    "data = my_data.rename(columns=mapping)\n",
    "data.columns = data.columns.str.title()\n",
    "data.head()\n",
    "tidy_data = input('Would you like to tidy your data? y/n: ')\n",
    "if tidy_data == 'y':\n",
    "    level_1_origin = input('What would you like to rename: ')\n",
    "    level_1_change = input('What would you like to rename it to: ')\n",
    "    data = data.replace([level_1_origin],[level_1_change])\n",
    "    carry_on = input('Would you like to rename a second variable? y/n: ')\n",
    "    if carry_on == 'y':\n",
    "        level_2_origin = input('What would you like to rename: ')\n",
    "        level_2_change = input('What would you like to rename it to: ')\n",
    "        data = data.replace([level_2_origin],[level_2_change])\n",
    "        carry_on = input('Would you like to rename a third variable? y/n: ')\n",
    "    if carry_on == 'y':\n",
    "        level_3_origin = input('What would you like to rename: ')\n",
    "        level_3_change = input('What would you like to rename it to: ')\n",
    "        data = data.replace([level_3_origin],[level_3_change])\n",
    "        carry_on = input('Would you like to rename a final variable? y/n: ')\n",
    "    if carry_on == 'y':\n",
    "        level_4_origin = input('What would you like to rename: ')\n",
    "        level_4_change = input('What would you like to rename it to: ')\n",
    "        data = data.replace([level_4_origin],[level_4_change])\n",
    "        carry_out_summary = input('Would you like to generate some summary statistics? y/n: ')\n",
    "    elif carry_on == 'n':\n",
    "        carry_out_summary = input('Would you like to generate some summary statistics? y/n: ')\n",
    "elif tidy_data == 'n':\n",
    "    carry_out_summary = input('Would you like to generate some summary statistics? y/n: ')"
   ]
  },
  {
   "cell_type": "code",
   "execution_count": null,
   "id": "bc96b445",
   "metadata": {},
   "outputs": [],
   "source": [
    "carry_out_summary = input('Would you like to generate some summary statistics? y/n: ')\n",
    "if carry_out_summary == 'y':\n",
    "    data_frame[[IV1, IV2, DV]].groupby([IV1,IV2]).describe()"
   ]
  },
  {
   "cell_type": "code",
   "execution_count": 6,
   "id": "e5327b0c",
   "metadata": {},
   "outputs": [
    {
     "ename": "NameError",
     "evalue": "name 'view' is not defined",
     "output_type": "error",
     "traceback": [
      "\u001b[1;31m---------------------------------------------------------------------------\u001b[0m",
      "\u001b[1;31mNameError\u001b[0m                                 Traceback (most recent call last)",
      "\u001b[1;32m~\\AppData\\Local\\Temp/ipykernel_6980/586507576.py\u001b[0m in \u001b[0;36m<module>\u001b[1;34m\u001b[0m\n\u001b[1;32m----> 1\u001b[1;33m \u001b[0mview\u001b[0m\u001b[1;33m(\u001b[0m\u001b[0mdata\u001b[0m\u001b[1;33m)\u001b[0m\u001b[1;33m\u001b[0m\u001b[1;33m\u001b[0m\u001b[0m\n\u001b[0m",
      "\u001b[1;31mNameError\u001b[0m: name 'view' is not defined"
     ]
    }
   ],
   "source": []
  }
 ],
 "metadata": {
  "kernelspec": {
   "display_name": "Python (data_science)",
   "language": "python",
   "name": "data_science"
  },
  "language_info": {
   "codemirror_mode": {
    "name": "ipython",
    "version": 3
   },
   "file_extension": ".py",
   "mimetype": "text/x-python",
   "name": "python",
   "nbconvert_exporter": "python",
   "pygments_lexer": "ipython3",
   "version": "3.9.7"
  }
 },
 "nbformat": 4,
 "nbformat_minor": 5
}
