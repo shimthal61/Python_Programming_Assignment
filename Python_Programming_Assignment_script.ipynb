{
 "cells": [
  {
   "cell_type": "markdown",
   "id": "b07ebdb3",
   "metadata": {},
   "source": [
    "# Importing Packages"
   ]
  },
  {
   "cell_type": "code",
   "execution_count": 46,
   "id": "18e37022",
   "metadata": {},
   "outputs": [],
   "source": [
    "import pandas as pd\n",
    "import matplotlib.pyplot as plt"
   ]
  },
  {
   "cell_type": "markdown",
   "id": "f92c26fa",
   "metadata": {},
   "source": [
    "# Creating read_csv Function"
   ]
  },
  {
   "cell_type": "code",
   "execution_count": 47,
   "id": "e535f995",
   "metadata": {},
   "outputs": [],
   "source": [
    "def read_my_data(csv_file):\n",
    "    my_data = pd.read_csv(csv_file)\n",
    "    return my_data"
   ]
  },
  {
   "cell_type": "code",
   "execution_count": 48,
   "id": "26e19265",
   "metadata": {},
   "outputs": [],
   "source": [
    "my_data = read_my_data(\"python_assignment_1.csv\")"
   ]
  },
  {
   "cell_type": "code",
   "execution_count": 49,
   "id": "fde77cde",
   "metadata": {},
   "outputs": [
    {
     "data": {
      "text/html": [
       "<div>\n",
       "<style scoped>\n",
       "    .dataframe tbody tr th:only-of-type {\n",
       "        vertical-align: middle;\n",
       "    }\n",
       "\n",
       "    .dataframe tbody tr th {\n",
       "        vertical-align: top;\n",
       "    }\n",
       "\n",
       "    .dataframe thead th {\n",
       "        text-align: right;\n",
       "    }\n",
       "</style>\n",
       "<table border=\"1\" class=\"dataframe\">\n",
       "  <thead>\n",
       "    <tr style=\"text-align: right;\">\n",
       "      <th></th>\n",
       "      <th>participant</th>\n",
       "      <th>prime</th>\n",
       "      <th>target</th>\n",
       "      <th>rt</th>\n",
       "    </tr>\n",
       "  </thead>\n",
       "  <tbody>\n",
       "    <tr>\n",
       "      <th>0</th>\n",
       "      <td>1</td>\n",
       "      <td>positiveprime</td>\n",
       "      <td>positivetarget</td>\n",
       "      <td>1502</td>\n",
       "    </tr>\n",
       "    <tr>\n",
       "      <th>1</th>\n",
       "      <td>2</td>\n",
       "      <td>positiveprime</td>\n",
       "      <td>positivetarget</td>\n",
       "      <td>1535</td>\n",
       "    </tr>\n",
       "    <tr>\n",
       "      <th>2</th>\n",
       "      <td>3</td>\n",
       "      <td>positiveprime</td>\n",
       "      <td>positivetarget</td>\n",
       "      <td>1563</td>\n",
       "    </tr>\n",
       "    <tr>\n",
       "      <th>3</th>\n",
       "      <td>4</td>\n",
       "      <td>positiveprime</td>\n",
       "      <td>positivetarget</td>\n",
       "      <td>1492</td>\n",
       "    </tr>\n",
       "    <tr>\n",
       "      <th>4</th>\n",
       "      <td>5</td>\n",
       "      <td>positiveprime</td>\n",
       "      <td>positivetarget</td>\n",
       "      <td>1560</td>\n",
       "    </tr>\n",
       "  </tbody>\n",
       "</table>\n",
       "</div>"
      ],
      "text/plain": [
       "   participant          prime          target    rt\n",
       "0            1  positiveprime  positivetarget  1502\n",
       "1            2  positiveprime  positivetarget  1535\n",
       "2            3  positiveprime  positivetarget  1563\n",
       "3            4  positiveprime  positivetarget  1492\n",
       "4            5  positiveprime  positivetarget  1560"
      ]
     },
     "execution_count": 49,
     "metadata": {},
     "output_type": "execute_result"
    }
   ],
   "source": [
    "my_data.head()"
   ]
  },
  {
   "cell_type": "markdown",
   "id": "f7663920",
   "metadata": {},
   "source": [
    "# Tidying Data"
   ]
  },
  {
   "cell_type": "markdown",
   "id": "839cedee",
   "metadata": {},
   "source": [
    "my_data.columns = my_data.columns.str.title()\n",
    "my_data = my_data.replace(['positiveprime', 'negativeprime', 'positivetarget', 'negativetarget'], \n",
    "                ['Positive', 'Negative', 'Positive', 'Negative'])"
   ]
  },
  {
   "cell_type": "code",
   "execution_count": 50,
   "id": "504fffff",
   "metadata": {},
   "outputs": [
    {
     "data": {
      "text/html": [
       "<div>\n",
       "<style scoped>\n",
       "    .dataframe tbody tr th:only-of-type {\n",
       "        vertical-align: middle;\n",
       "    }\n",
       "\n",
       "    .dataframe tbody tr th {\n",
       "        vertical-align: top;\n",
       "    }\n",
       "\n",
       "    .dataframe thead th {\n",
       "        text-align: right;\n",
       "    }\n",
       "</style>\n",
       "<table border=\"1\" class=\"dataframe\">\n",
       "  <thead>\n",
       "    <tr style=\"text-align: right;\">\n",
       "      <th></th>\n",
       "      <th>participant</th>\n",
       "      <th>prime</th>\n",
       "      <th>target</th>\n",
       "      <th>rt</th>\n",
       "    </tr>\n",
       "  </thead>\n",
       "  <tbody>\n",
       "    <tr>\n",
       "      <th>0</th>\n",
       "      <td>1</td>\n",
       "      <td>positiveprime</td>\n",
       "      <td>positivetarget</td>\n",
       "      <td>1502</td>\n",
       "    </tr>\n",
       "    <tr>\n",
       "      <th>1</th>\n",
       "      <td>2</td>\n",
       "      <td>positiveprime</td>\n",
       "      <td>positivetarget</td>\n",
       "      <td>1535</td>\n",
       "    </tr>\n",
       "    <tr>\n",
       "      <th>2</th>\n",
       "      <td>3</td>\n",
       "      <td>positiveprime</td>\n",
       "      <td>positivetarget</td>\n",
       "      <td>1563</td>\n",
       "    </tr>\n",
       "    <tr>\n",
       "      <th>3</th>\n",
       "      <td>4</td>\n",
       "      <td>positiveprime</td>\n",
       "      <td>positivetarget</td>\n",
       "      <td>1492</td>\n",
       "    </tr>\n",
       "    <tr>\n",
       "      <th>4</th>\n",
       "      <td>5</td>\n",
       "      <td>positiveprime</td>\n",
       "      <td>positivetarget</td>\n",
       "      <td>1560</td>\n",
       "    </tr>\n",
       "  </tbody>\n",
       "</table>\n",
       "</div>"
      ],
      "text/plain": [
       "   participant          prime          target    rt\n",
       "0            1  positiveprime  positivetarget  1502\n",
       "1            2  positiveprime  positivetarget  1535\n",
       "2            3  positiveprime  positivetarget  1563\n",
       "3            4  positiveprime  positivetarget  1492\n",
       "4            5  positiveprime  positivetarget  1560"
      ]
     },
     "execution_count": 50,
     "metadata": {},
     "output_type": "execute_result"
    }
   ],
   "source": [
    "my_data.head()"
   ]
  },
  {
   "cell_type": "code",
   "execution_count": 55,
   "id": "d74b4042",
   "metadata": {},
   "outputs": [],
   "source": [
    "def run_my_anova(Participant, IV1, IV2, DV, data):\n",
    "    mapping = {data.columns[0]: Participant, data.columns[1]: IV1, data.columns[2]: IV2, data.columns[3]: DV}\n",
    "    data_frame = data.rename(columns=mapping)\n",
    "    descriptives = data_frame[[IV1, IV2, DV]].groupby([IV1,IV2]).describe()\n",
    "    return descriptives"
   ]
  },
  {
   "cell_type": "code",
   "execution_count": 56,
   "id": "4f73f9b2",
   "metadata": {},
   "outputs": [
    {
     "data": {
      "text/html": [
       "<div>\n",
       "<style scoped>\n",
       "    .dataframe tbody tr th:only-of-type {\n",
       "        vertical-align: middle;\n",
       "    }\n",
       "\n",
       "    .dataframe tbody tr th {\n",
       "        vertical-align: top;\n",
       "    }\n",
       "\n",
       "    .dataframe thead tr th {\n",
       "        text-align: left;\n",
       "    }\n",
       "\n",
       "    .dataframe thead tr:last-of-type th {\n",
       "        text-align: right;\n",
       "    }\n",
       "</style>\n",
       "<table border=\"1\" class=\"dataframe\">\n",
       "  <thead>\n",
       "    <tr>\n",
       "      <th></th>\n",
       "      <th></th>\n",
       "      <th colspan=\"8\" halign=\"left\">RT</th>\n",
       "    </tr>\n",
       "    <tr>\n",
       "      <th></th>\n",
       "      <th></th>\n",
       "      <th>count</th>\n",
       "      <th>mean</th>\n",
       "      <th>std</th>\n",
       "      <th>min</th>\n",
       "      <th>25%</th>\n",
       "      <th>50%</th>\n",
       "      <th>75%</th>\n",
       "      <th>max</th>\n",
       "    </tr>\n",
       "    <tr>\n",
       "      <th>Prime</th>\n",
       "      <th>Target</th>\n",
       "      <th></th>\n",
       "      <th></th>\n",
       "      <th></th>\n",
       "      <th></th>\n",
       "      <th></th>\n",
       "      <th></th>\n",
       "      <th></th>\n",
       "      <th></th>\n",
       "    </tr>\n",
       "  </thead>\n",
       "  <tbody>\n",
       "    <tr>\n",
       "      <th rowspan=\"2\" valign=\"top\">negativeprime</th>\n",
       "      <th>negativetarget</th>\n",
       "      <td>148.0</td>\n",
       "      <td>1547.256757</td>\n",
       "      <td>52.382700</td>\n",
       "      <td>1417.0</td>\n",
       "      <td>1507.50</td>\n",
       "      <td>1550.5</td>\n",
       "      <td>1580.50</td>\n",
       "      <td>1710.0</td>\n",
       "    </tr>\n",
       "    <tr>\n",
       "      <th>positivetarget</th>\n",
       "      <td>148.0</td>\n",
       "      <td>1562.648649</td>\n",
       "      <td>50.468400</td>\n",
       "      <td>1440.0</td>\n",
       "      <td>1533.25</td>\n",
       "      <td>1562.0</td>\n",
       "      <td>1587.00</td>\n",
       "      <td>1736.0</td>\n",
       "    </tr>\n",
       "    <tr>\n",
       "      <th rowspan=\"2\" valign=\"top\">positiveprime</th>\n",
       "      <th>negativetarget</th>\n",
       "      <td>148.0</td>\n",
       "      <td>1566.959459</td>\n",
       "      <td>54.016737</td>\n",
       "      <td>1448.0</td>\n",
       "      <td>1528.50</td>\n",
       "      <td>1570.5</td>\n",
       "      <td>1602.25</td>\n",
       "      <td>1694.0</td>\n",
       "    </tr>\n",
       "    <tr>\n",
       "      <th>positivetarget</th>\n",
       "      <td>148.0</td>\n",
       "      <td>1547.391892</td>\n",
       "      <td>44.879072</td>\n",
       "      <td>1430.0</td>\n",
       "      <td>1513.00</td>\n",
       "      <td>1550.5</td>\n",
       "      <td>1584.25</td>\n",
       "      <td>1637.0</td>\n",
       "    </tr>\n",
       "  </tbody>\n",
       "</table>\n",
       "</div>"
      ],
      "text/plain": [
       "                                 RT                                           \\\n",
       "                              count         mean        std     min      25%   \n",
       "Prime         Target                                                           \n",
       "negativeprime negativetarget  148.0  1547.256757  52.382700  1417.0  1507.50   \n",
       "              positivetarget  148.0  1562.648649  50.468400  1440.0  1533.25   \n",
       "positiveprime negativetarget  148.0  1566.959459  54.016737  1448.0  1528.50   \n",
       "              positivetarget  148.0  1547.391892  44.879072  1430.0  1513.00   \n",
       "\n",
       "                                                       \n",
       "                                 50%      75%     max  \n",
       "Prime         Target                                   \n",
       "negativeprime negativetarget  1550.5  1580.50  1710.0  \n",
       "              positivetarget  1562.0  1587.00  1736.0  \n",
       "positiveprime negativetarget  1570.5  1602.25  1694.0  \n",
       "              positivetarget  1550.5  1584.25  1637.0  "
      ]
     },
     "execution_count": 56,
     "metadata": {},
     "output_type": "execute_result"
    }
   ],
   "source": [
    "run_my_anova('Participant', 'Prime', 'Target', 'RT', my_data)"
   ]
  },
  {
   "cell_type": "markdown",
   "id": "de7dda6b",
   "metadata": {},
   "source": [
    "# Creating Visualisation"
   ]
  },
  {
   "cell_type": "code",
   "execution_count": null,
   "id": "8e56f312",
   "metadata": {},
   "outputs": [],
   "source": [
    "plt.style.use('ggplot')\n",
    "plt.plot(anova_data['Condition'], anova_data['RT'], 'bo')\n",
    "plt.xlabel('Condition')\n",
    "plt.ylabel('RT (ms.)')\n",
    "plt.title('Reaction Time by Condition')\n",
    "plt.margins(.5, .5)\n",
    "plt.show()"
   ]
  }
 ],
 "metadata": {
  "kernelspec": {
   "display_name": "Python (data_science)",
   "language": "python",
   "name": "data_science"
  },
  "language_info": {
   "codemirror_mode": {
    "name": "ipython",
    "version": 3
   },
   "file_extension": ".py",
   "mimetype": "text/x-python",
   "name": "python",
   "nbconvert_exporter": "python",
   "pygments_lexer": "ipython3",
   "version": "3.9.7"
  }
 },
 "nbformat": 4,
 "nbformat_minor": 5
}
