{
 "cells": [
  {
   "cell_type": "markdown",
   "id": "b07ebdb3",
   "metadata": {},
   "source": [
    "# Importing Packages"
   ]
  },
  {
   "cell_type": "code",
   "execution_count": null,
   "id": "18e37022",
   "metadata": {},
   "outputs": [],
   "source": [
    "import pandas as pd\n",
    "import matplotlib.pyplot as plt"
   ]
  },
  {
   "cell_type": "markdown",
   "id": "f92c26fa",
   "metadata": {},
   "source": [
    "# Creating read_csv Function"
   ]
  },
  {
   "cell_type": "code",
   "execution_count": null,
   "id": "e535f995",
   "metadata": {},
   "outputs": [],
   "source": [
    "def read_my_data(csv_file):\n",
    "    my_data = pd.read_csv(csv_file)\n",
    "    return my_data"
   ]
  },
  {
   "cell_type": "code",
   "execution_count": null,
   "id": "26e19265",
   "metadata": {},
   "outputs": [],
   "source": [
    "my_data = read_my_data(\"python_assignment_1.csv\")"
   ]
  },
  {
   "cell_type": "markdown",
   "id": "f7663920",
   "metadata": {},
   "source": [
    "# Tidying Data"
   ]
  },
  {
   "cell_type": "code",
   "execution_count": null,
   "id": "90f5b02d",
   "metadata": {},
   "outputs": [],
   "source": [
    "my_data.columns = my_data.columns.str.title()\n",
    "my_data = my_data.replace(['positiveprime', 'negativeprime', 'positivetarget', 'negativetarget'], \n",
    "                ['Positive', 'Negative', 'Positive', 'Negative'])"
   ]
  },
  {
   "cell_type": "code",
   "execution_count": null,
   "id": "504fffff",
   "metadata": {},
   "outputs": [],
   "source": [
    "my_data.head()"
   ]
  },
  {
   "cell_type": "code",
   "execution_count": null,
   "id": "d74b4042",
   "metadata": {},
   "outputs": [],
   "source": [
    "def run_my_anova(IV1, IV2, DV, data):\n",
    "    mapping = {data.columns[0]: 'Participant', data.columns[1]: IV1, data.columns[2]: IV2, data.columns[3]: DV}\n",
    "    data_frame = data.rename(columns=mapping)\n",
    "    descriptives = data_frame[[IV1, IV2, DV]].groupby([IV1,IV2]).describe()\n",
    "    return descriptives"
   ]
  },
  {
   "cell_type": "code",
   "execution_count": null,
   "id": "4f73f9b2",
   "metadata": {},
   "outputs": [],
   "source": [
    "run_my_anova('Prime', 'Target', 'RT', my_data)"
   ]
  },
  {
   "cell_type": "markdown",
   "id": "26a8ae61",
   "metadata": {},
   "source": [
    "# Going beyond"
   ]
  },
  {
   "cell_type": "markdown",
   "id": "127d774e",
   "metadata": {},
   "source": [
    "## Defining Columns"
   ]
  },
  {
   "cell_type": "code",
   "execution_count": null,
   "id": "3071e14c",
   "metadata": {},
   "outputs": [],
   "source": [
    "IV1 = input('Enter your first independent variable: ')\n",
    "IV2 = input('Enter your second independent variable: ')\n",
    "DV = input('Enter your dependent variable: ')\n",
    "mapping = {my_data.columns[1]: IV1, my_data.columns[2]: IV2, my_data.columns[3]: DV}\n",
    "data = my_data.rename(columns=mapping)\n",
    "data.columns = data.columns.str.title()\n",
    "data"
   ]
  },
  {
   "cell_type": "markdown",
   "id": "e633489b",
   "metadata": {},
   "source": [
    "## Tidying data"
   ]
  },
  {
   "cell_type": "markdown",
   "id": "9f6a6006",
   "metadata": {},
   "source": [
    "## Descriptive stats"
   ]
  },
  {
   "cell_type": "code",
   "execution_count": null,
   "id": "bc96b445",
   "metadata": {},
   "outputs": [],
   "source": [
    "carry_out_summary = input('Would you like to generate some summary statistics? y/n: ')\n",
    "if carry_out_summary == 'y':\n",
    "    data_frame[[IV1, IV2, DV]].groupby([IV1,IV2]).describe()"
   ]
  },
  {
   "cell_type": "markdown",
   "id": "d083b86c",
   "metadata": {},
   "source": [
    "## Adding options"
   ]
  },
  {
   "cell_type": "markdown",
   "id": "c4a6a8c6",
   "metadata": {},
   "source": [
    "## Defining functions"
   ]
  },
  {
   "cell_type": "code",
   "execution_count": null,
   "id": "a9b31358",
   "metadata": {},
   "outputs": [],
   "source": [
    "import pandas as pd\n",
    "import matplotlib.pyplot as plt\n",
    "def anova_function():\n",
    "    global data\n",
    "    options = input('''\n",
    "What would you like to do with your data:\n",
    "Enter 1 to load in the data file\n",
    "Enter 2 to view data frame\n",
    "Enter 3 to tidy data\n",
    "Enter 4 to generate summary statistics\n",
    "Enter 5 to visualise the data\n",
    "Enter 6 to perform and report an ANOVA\n",
    "Enter 7 to perform and report pairwise comparisons\n",
    "\n",
    "''')\n",
    "    if options == '1':\n",
    "        substring = 'csv'\n",
    "        def load_data_function():\n",
    "            global data\n",
    "            file = input('''\n",
    "Enter your csv file name or enter 'b' to go back: \n",
    "\n",
    "        ''')\n",
    "            if substring in file:\n",
    "                data = pd.read_csv(file)\n",
    "            elif file == 'b':\n",
    "                anova_function()\n",
    "            else:\n",
    "                print('Invalid option. Try again.')\n",
    "                load_data_function_again()\n",
    "        def load_data_function_again():\n",
    "            load_data_function()\n",
    "        load_data_function()        \n",
    "    elif options == '2':\n",
    "        print('Displaying Data Frame')\n",
    "        display(data)\n",
    "    elif options == '3':\n",
    "        def tidy_data_function():\n",
    "            global data\n",
    "            columns_levels = input('''\n",
    "What would you like to tidy?\n",
    "Enter 1 to rename the columns\n",
    "Enter 2 to rename the levels\n",
    "Enter 3 to go back\n",
    "\n",
    "        ''')\n",
    "            if columns_levels == '1':\n",
    "                IV1 = input('''\n",
    "Enter your first independent variable: \n",
    "\n",
    "            ''')\n",
    "                IV2 = input('''\n",
    "Enter your second independent variable: \n",
    "\n",
    "            ''')\n",
    "                DV = input('''\n",
    "Enter your dependent variable: \n",
    "            \n",
    "            ''')\n",
    "                mapping = {data.columns[0]: 'Participant', data.columns[1]: IV1, data.columns[2]: IV2, data.columns[3]: DV}\n",
    "                data = data.rename(columns=mapping)\n",
    "                data.columns = data.columns.str.title()\n",
    "            elif columns_levels == '2':\n",
    "                def levels_rename():\n",
    "                    global data\n",
    "                    level_origin = input('''\n",
    "What would you like to rename: \n",
    "\n",
    "                ''')\n",
    "                    level_change = input('''\n",
    "What would you like to rename it to: \n",
    "\n",
    "                ''')\n",
    "                    data = data.replace([level_origin],[level_change])\n",
    "\n",
    "                    levels_rename_again()\n",
    "\n",
    "                def levels_rename_again():\n",
    "                    global data\n",
    "                    change_levels = input('''\n",
    "Would you like to rename another level? y/n: \n",
    "\n",
    "            ''')\n",
    "                    if change_levels == 'y':\n",
    "                        levels_rename()\n",
    "                    elif change_levels == 'n':\n",
    "                        anova_function()\n",
    "                    else:\n",
    "                        levels_rename_again()        \n",
    "                levels_rename()\n",
    "            elif columns_levels == '3':\n",
    "                anova_function()\n",
    "            else:\n",
    "                print('Invalid choice. Try again')\n",
    "                tidy_data_function_again()\n",
    "        def tidy_data_function_again():\n",
    "            tidy_data_function()\n",
    "        tidy_data_function()\n",
    "    elif options == '3':\n",
    "        def summary_function():\n",
    "            \n",
    "            \n",
    "    anova_function_again()\n",
    "\n",
    "def anova_function_again():\n",
    "    anova_function()\n",
    "    \n",
    "anova_function()"
   ]
  },
  {
   "cell_type": "code",
   "execution_count": null,
   "id": "44dd07bc",
   "metadata": {},
   "outputs": [],
   "source": [
    "def run_my_anova(IV1, IV2, DV, data):\n",
    "    mapping = {data.columns[0]: 'Participant', data.columns[1]: IV1, data.columns[2]: IV2, data.columns[3]: DV}\n",
    "    data_frame = data.rename(columns=mapping)\n",
    "    descriptives = data_frame[[IV1, IV2, DV]].groupby([IV1,IV2]).describe()\n",
    "    return descriptives"
   ]
  },
  {
   "cell_type": "code",
   "execution_count": null,
   "id": "c1ff7eb4",
   "metadata": {},
   "outputs": [],
   "source": [
    "less_data = my_data.iloc[:, 1:4]"
   ]
  },
  {
   "cell_type": "code",
   "execution_count": null,
   "id": "3b00a4ef",
   "metadata": {},
   "outputs": [],
   "source": [
    "less_data.groupby('prime').describe()"
   ]
  }
 ],
 "metadata": {
  "kernelspec": {
   "display_name": "Python (data_science)",
   "language": "python",
   "name": "data_science"
  },
  "language_info": {
   "codemirror_mode": {
    "name": "ipython",
    "version": 3
   },
   "file_extension": ".py",
   "mimetype": "text/x-python",
   "name": "python",
   "nbconvert_exporter": "python",
   "pygments_lexer": "ipython3",
   "version": "3.9.7"
  }
 },
 "nbformat": 4,
 "nbformat_minor": 5
}
